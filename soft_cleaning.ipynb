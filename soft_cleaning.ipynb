{
 "cells": [
  {
   "cell_type": "code",
   "execution_count": 8,
   "id": "d732ffc6",
   "metadata": {},
   "outputs": [],
   "source": [
    "import numpy as np\n",
    "import pandas as pd\n",
    "import seaborn as sns\n",
    "import matplotlib.pyplot as plt\n",
    "%matplotlib inline\n",
    "from itertools import product\n",
    "import scipy.stats as ss"
   ]
  },
  {
   "cell_type": "code",
   "execution_count": 9,
   "id": "e5a21796",
   "metadata": {},
   "outputs": [],
   "source": [
    "pd.options.display.max_rows = 100\n",
    "pd.options.display.max_columns = 100"
   ]
  },
  {
   "cell_type": "code",
   "execution_count": 10,
   "id": "b69dac3c",
   "metadata": {
    "scrolled": true
   },
   "outputs": [
    {
     "data": {
      "text/html": [
       "<div>\n",
       "<style scoped>\n",
       "    .dataframe tbody tr th:only-of-type {\n",
       "        vertical-align: middle;\n",
       "    }\n",
       "\n",
       "    .dataframe tbody tr th {\n",
       "        vertical-align: top;\n",
       "    }\n",
       "\n",
       "    .dataframe thead th {\n",
       "        text-align: right;\n",
       "    }\n",
       "</style>\n",
       "<table border=\"1\" class=\"dataframe\">\n",
       "  <thead>\n",
       "    <tr style=\"text-align: right;\">\n",
       "      <th></th>\n",
       "      <th>EmployeeID</th>\n",
       "      <th>Date</th>\n",
       "      <th>DevCenterID</th>\n",
       "      <th>SBUID</th>\n",
       "      <th>PositionID</th>\n",
       "      <th>PositionLevel</th>\n",
       "      <th>IsTrainee</th>\n",
       "      <th>LanguageLevelID</th>\n",
       "      <th>CustomerID</th>\n",
       "      <th>ProjectID</th>\n",
       "      <th>IsInternalProject</th>\n",
       "      <th>Utilization</th>\n",
       "      <th>HourVacation</th>\n",
       "      <th>HourMobileReserve</th>\n",
       "      <th>HourLockedReserve</th>\n",
       "      <th>OnSite</th>\n",
       "      <th>CompetenceGroupID</th>\n",
       "      <th>FunctionalOfficeID</th>\n",
       "      <th>PaymentTypeId</th>\n",
       "      <th>BonusOneTime</th>\n",
       "      <th>APM</th>\n",
       "      <th>WageGross</th>\n",
       "      <th>MonthOnPosition</th>\n",
       "      <th>MonthOnSalary</th>\n",
       "    </tr>\n",
       "  </thead>\n",
       "  <tbody>\n",
       "    <tr>\n",
       "      <th>0</th>\n",
       "      <td>00116D71-E87D-4B64-A566-1F29B2A798A8</td>\n",
       "      <td>7/1/17</td>\n",
       "      <td>3</td>\n",
       "      <td>292</td>\n",
       "      <td>70</td>\n",
       "      <td>2</td>\n",
       "      <td>0</td>\n",
       "      <td>11</td>\n",
       "      <td>893EA22F-08BE-4F11-AD93-C50746E4565F</td>\n",
       "      <td>7F97465B-ED3C-45DB-BE96-86C7E493F0CD</td>\n",
       "      <td>0</td>\n",
       "      <td>0.7619</td>\n",
       "      <td>40</td>\n",
       "      <td>0</td>\n",
       "      <td>0</td>\n",
       "      <td>0</td>\n",
       "      <td>15</td>\n",
       "      <td>1</td>\n",
       "      <td>9</td>\n",
       "      <td>0</td>\n",
       "      <td>39</td>\n",
       "      <td>0.887446</td>\n",
       "      <td>1</td>\n",
       "      <td>1</td>\n",
       "    </tr>\n",
       "    <tr>\n",
       "      <th>1</th>\n",
       "      <td>00116D71-E87D-4B64-A566-1F29B2A798A8</td>\n",
       "      <td>8/1/17</td>\n",
       "      <td>3</td>\n",
       "      <td>332</td>\n",
       "      <td>70</td>\n",
       "      <td>2</td>\n",
       "      <td>0</td>\n",
       "      <td>11</td>\n",
       "      <td>893EA22F-08BE-4F11-AD93-C50746E4565F</td>\n",
       "      <td>7F97465B-ED3C-45DB-BE96-86C7E493F0CD</td>\n",
       "      <td>0</td>\n",
       "      <td>1.0000</td>\n",
       "      <td>0</td>\n",
       "      <td>0</td>\n",
       "      <td>0</td>\n",
       "      <td>0</td>\n",
       "      <td>15</td>\n",
       "      <td>1</td>\n",
       "      <td>9</td>\n",
       "      <td>200</td>\n",
       "      <td>28</td>\n",
       "      <td>0.887446</td>\n",
       "      <td>2</td>\n",
       "      <td>2</td>\n",
       "    </tr>\n",
       "    <tr>\n",
       "      <th>2</th>\n",
       "      <td>00116D71-E87D-4B64-A566-1F29B2A798A8</td>\n",
       "      <td>9/1/17</td>\n",
       "      <td>3</td>\n",
       "      <td>332</td>\n",
       "      <td>70</td>\n",
       "      <td>2</td>\n",
       "      <td>0</td>\n",
       "      <td>11</td>\n",
       "      <td>893EA22F-08BE-4F11-AD93-C50746E4565F</td>\n",
       "      <td>7F97465B-ED3C-45DB-BE96-86C7E493F0CD</td>\n",
       "      <td>0</td>\n",
       "      <td>0.5000</td>\n",
       "      <td>72</td>\n",
       "      <td>0</td>\n",
       "      <td>0</td>\n",
       "      <td>0</td>\n",
       "      <td>15</td>\n",
       "      <td>1</td>\n",
       "      <td>9</td>\n",
       "      <td>0</td>\n",
       "      <td>43</td>\n",
       "      <td>0.887446</td>\n",
       "      <td>3</td>\n",
       "      <td>3</td>\n",
       "    </tr>\n",
       "    <tr>\n",
       "      <th>3</th>\n",
       "      <td>00116D71-E87D-4B64-A566-1F29B2A798A8</td>\n",
       "      <td>10/1/17</td>\n",
       "      <td>3</td>\n",
       "      <td>332</td>\n",
       "      <td>70</td>\n",
       "      <td>2</td>\n",
       "      <td>0</td>\n",
       "      <td>11</td>\n",
       "      <td>893EA22F-08BE-4F11-AD93-C50746E4565F</td>\n",
       "      <td>7F97465B-ED3C-45DB-BE96-86C7E493F0CD</td>\n",
       "      <td>0</td>\n",
       "      <td>0.8636</td>\n",
       "      <td>16</td>\n",
       "      <td>0</td>\n",
       "      <td>0</td>\n",
       "      <td>0</td>\n",
       "      <td>15</td>\n",
       "      <td>1</td>\n",
       "      <td>9</td>\n",
       "      <td>0</td>\n",
       "      <td>49</td>\n",
       "      <td>0.887446</td>\n",
       "      <td>4</td>\n",
       "      <td>4</td>\n",
       "    </tr>\n",
       "    <tr>\n",
       "      <th>4</th>\n",
       "      <td>00116D71-E87D-4B64-A566-1F29B2A798A8</td>\n",
       "      <td>11/1/17</td>\n",
       "      <td>3</td>\n",
       "      <td>332</td>\n",
       "      <td>70</td>\n",
       "      <td>2</td>\n",
       "      <td>0</td>\n",
       "      <td>11</td>\n",
       "      <td>893EA22F-08BE-4F11-AD93-C50746E4565F</td>\n",
       "      <td>7F97465B-ED3C-45DB-BE96-86C7E493F0CD</td>\n",
       "      <td>0</td>\n",
       "      <td>0.8000</td>\n",
       "      <td>8</td>\n",
       "      <td>0</td>\n",
       "      <td>0</td>\n",
       "      <td>0</td>\n",
       "      <td>15</td>\n",
       "      <td>1</td>\n",
       "      <td>9</td>\n",
       "      <td>0</td>\n",
       "      <td>43</td>\n",
       "      <td>0.887446</td>\n",
       "      <td>5</td>\n",
       "      <td>5</td>\n",
       "    </tr>\n",
       "  </tbody>\n",
       "</table>\n",
       "</div>"
      ],
      "text/plain": [
       "                             EmployeeID     Date  DevCenterID  SBUID  \\\n",
       "0  00116D71-E87D-4B64-A566-1F29B2A798A8   7/1/17            3    292   \n",
       "1  00116D71-E87D-4B64-A566-1F29B2A798A8   8/1/17            3    332   \n",
       "2  00116D71-E87D-4B64-A566-1F29B2A798A8   9/1/17            3    332   \n",
       "3  00116D71-E87D-4B64-A566-1F29B2A798A8  10/1/17            3    332   \n",
       "4  00116D71-E87D-4B64-A566-1F29B2A798A8  11/1/17            3    332   \n",
       "\n",
       "   PositionID  PositionLevel  IsTrainee  LanguageLevelID  \\\n",
       "0          70              2          0               11   \n",
       "1          70              2          0               11   \n",
       "2          70              2          0               11   \n",
       "3          70              2          0               11   \n",
       "4          70              2          0               11   \n",
       "\n",
       "                             CustomerID                             ProjectID  \\\n",
       "0  893EA22F-08BE-4F11-AD93-C50746E4565F  7F97465B-ED3C-45DB-BE96-86C7E493F0CD   \n",
       "1  893EA22F-08BE-4F11-AD93-C50746E4565F  7F97465B-ED3C-45DB-BE96-86C7E493F0CD   \n",
       "2  893EA22F-08BE-4F11-AD93-C50746E4565F  7F97465B-ED3C-45DB-BE96-86C7E493F0CD   \n",
       "3  893EA22F-08BE-4F11-AD93-C50746E4565F  7F97465B-ED3C-45DB-BE96-86C7E493F0CD   \n",
       "4  893EA22F-08BE-4F11-AD93-C50746E4565F  7F97465B-ED3C-45DB-BE96-86C7E493F0CD   \n",
       "\n",
       "   IsInternalProject  Utilization  HourVacation  HourMobileReserve  \\\n",
       "0                  0       0.7619            40                  0   \n",
       "1                  0       1.0000             0                  0   \n",
       "2                  0       0.5000            72                  0   \n",
       "3                  0       0.8636            16                  0   \n",
       "4                  0       0.8000             8                  0   \n",
       "\n",
       "   HourLockedReserve  OnSite  CompetenceGroupID  FunctionalOfficeID  \\\n",
       "0                  0       0                 15                   1   \n",
       "1                  0       0                 15                   1   \n",
       "2                  0       0                 15                   1   \n",
       "3                  0       0                 15                   1   \n",
       "4                  0       0                 15                   1   \n",
       "\n",
       "   PaymentTypeId  BonusOneTime  APM  WageGross  MonthOnPosition  MonthOnSalary  \n",
       "0              9             0   39   0.887446                1              1  \n",
       "1              9           200   28   0.887446                2              2  \n",
       "2              9             0   43   0.887446                3              3  \n",
       "3              9             0   49   0.887446                4              4  \n",
       "4              9             0   43   0.887446                5              5  "
      ]
     },
     "execution_count": 10,
     "metadata": {},
     "output_type": "execute_result"
    }
   ],
   "source": [
    "hist = pd.read_csv(\"datasets/soft/history.csv\")\n",
    "\n",
    "hist.head()"
   ]
  },
  {
   "cell_type": "markdown",
   "id": "b14d3c70",
   "metadata": {},
   "source": [
    "Employee History\n",
    "\n",
    "Employee History data for 1.5 years, which is gathered on regular basis (ones per month)\n",
    "\n",
    "* EmployeeID - Employee identifier\n",
    "* Date - Month of Employee Statistics gathering\n",
    "* DevCenterID - Employee Location in terms of Company Geography. DevCenters locate in different cities such as Kyiv, Lviv, Kharkiv, Dnipro.\n",
    "* SBUID - Employee Location in terms of Company Structure. Other words, it's department in the company. Many unique values => isn't typical IT, HR, R&D, Finance. Same PositionID in different SBUID => inner separation in different centers.\n",
    "1. What does Company Structure / Company Geography mean? Geographical location - coordinates, structural - company structure element\n",
    "* PositionID - Identifier of Employee Position (like QC Engineer, Development Consultant, etc)\n",
    "1. What positions do codes mean? Info isn't provided.\n",
    "* IsTrainee - Trainee flag of Employee\n",
    "* LanguageLevelID - English Level Identifier (like Intermediate low, Upper-intermediate, etc). ordered level of employee 1-Elementary and the highest is Native level;\n",
    "* CustomerID - Client Identifier (one client may be related to the several projects). \n",
    "1. Is it the main client who paid for project where employee worked? Yes, it's Id of client where Employee is still working or worked.\n",
    "* ProjectID - Employee Main Project Identifier\n",
    "* IsInternalProject - Internal / External project flag\n",
    "* Utilization - percent of Employee load on Non-Internal Projects during last month\n",
    "1. Does this feature matter for employees who worked on internal project? Yes because only main project can be internal, whereas there are also other projects that are external.\n",
    "2. What is the difference between an internal and an external project? Internal project - company creates own product, external project - company creates product on customer's plan.\n",
    "* HourVacation - vacation hours are spent as on the last month\n",
    "* HourMobileReserve - total hours in Mobile reserve as on the last month. It's hours which Employee spends in his/her Technology group without project.\n",
    "* HourLockedReserve - total hours in Locked reserve as on the last month. Each manager has Team with different job roles. It's hours which Employee spends in team of his/her Manager without project.\n",
    "* OnSide - was Employee involved to OnSite visit last month\n",
    "1. What is on-site visit? Maybe, client's visit on place.\n",
    "* MonthOnPosition - month without position changing as on the last month\n",
    "* MonthOnSalary - month without salary increasing as on the last month\n",
    "* CompetenceGroupID - Employee Competency Group (like QC, Big Data, Data Science, etc)\n",
    "* FunctionalOfficeID - Functional Office Identifier (like SDO (Software Development), QMO (Quality Management Office), etc). Maybe, competency groups are parts of functional offices\n",
    "* PaymentTypeId - Payment with respect to the country-specifics employment\n",
    "1. What is it? Type of Employees indentity: FOP, contract, usual employee\n",
    "* WageGross - Compensation GROSS\n",
    "1. Why is a wage gross given in percents? It is anonymized gross compensation. Treat as salary.\n",
    "* BonusOneTime - One Time Bonus\n",
    "1. Month salary bonus? Maybe.\n",
    "* APM - Employee APM.\n",
    "1. What is it?  ACHIEVABLE PROFIT MARGIN. Approximate explanation looks like https://www.performlaw.com/hubfs/Pdf/Achievable_Profit_Margin_Analysis.pdf?t=1501943820897\n",
    "* PositionLevel - Employee Seniority Level (Junior, Middle, Senior, etc). PositionLevelID is also ordered 1-Junior, 9-11 Managers levels."
   ]
  },
  {
   "cell_type": "code",
   "execution_count": 11,
   "id": "b7f8ec0e",
   "metadata": {},
   "outputs": [
    {
     "data": {
      "text/plain": [
       "EmployeeID             object\n",
       "Date                   object\n",
       "DevCenterID             int64\n",
       "SBUID                   int64\n",
       "PositionID              int64\n",
       "PositionLevel           int64\n",
       "IsTrainee               int64\n",
       "LanguageLevelID         int64\n",
       "CustomerID             object\n",
       "ProjectID              object\n",
       "IsInternalProject       int64\n",
       "Utilization           float64\n",
       "HourVacation            int64\n",
       "HourMobileReserve       int64\n",
       "HourLockedReserve       int64\n",
       "OnSite                  int64\n",
       "CompetenceGroupID       int64\n",
       "FunctionalOfficeID      int64\n",
       "PaymentTypeId           int64\n",
       "BonusOneTime            int64\n",
       "APM                     int64\n",
       "WageGross             float64\n",
       "MonthOnPosition         int64\n",
       "MonthOnSalary           int64\n",
       "dtype: object"
      ]
     },
     "execution_count": 11,
     "metadata": {},
     "output_type": "execute_result"
    }
   ],
   "source": [
    "hist.dtypes"
   ]
  },
  {
   "cell_type": "code",
   "execution_count": 12,
   "id": "ce3ba076",
   "metadata": {},
   "outputs": [
    {
     "data": {
      "text/plain": [
       "0   2017-07-01\n",
       "1   2017-08-01\n",
       "2   2017-09-01\n",
       "3   2017-10-01\n",
       "4   2017-11-01\n",
       "Name: Date, dtype: datetime64[ns]"
      ]
     },
     "execution_count": 12,
     "metadata": {},
     "output_type": "execute_result"
    }
   ],
   "source": [
    "hist['Date'] = pd.to_datetime(hist['Date'], format='%m/%d/%y')\n",
    "hist['Date'].head()"
   ]
  },
  {
   "cell_type": "code",
   "execution_count": 13,
   "id": "7103c96b",
   "metadata": {},
   "outputs": [
    {
     "data": {
      "text/plain": [
       "(array([], dtype=int64), array([], dtype=int64))"
      ]
     },
     "execution_count": 13,
     "metadata": {},
     "output_type": "execute_result"
    }
   ],
   "source": [
    "np.where(hist.applymap(lambda x: x == ''))"
   ]
  },
  {
   "cell_type": "code",
   "execution_count": 14,
   "id": "86771c51",
   "metadata": {},
   "outputs": [
    {
     "data": {
      "text/plain": [
       "EmployeeID               0\n",
       "Date                     0\n",
       "DevCenterID              0\n",
       "SBUID                    0\n",
       "PositionID               0\n",
       "PositionLevel            0\n",
       "IsTrainee                0\n",
       "LanguageLevelID          0\n",
       "CustomerID               0\n",
       "ProjectID             6017\n",
       "IsInternalProject        0\n",
       "Utilization              0\n",
       "HourVacation             0\n",
       "HourMobileReserve        0\n",
       "HourLockedReserve        0\n",
       "OnSite                   0\n",
       "CompetenceGroupID        0\n",
       "FunctionalOfficeID       0\n",
       "PaymentTypeId            0\n",
       "BonusOneTime             0\n",
       "APM                      0\n",
       "WageGross                0\n",
       "MonthOnPosition          0\n",
       "MonthOnSalary            0\n",
       "dtype: int64"
      ]
     },
     "execution_count": 14,
     "metadata": {},
     "output_type": "execute_result"
    }
   ],
   "source": [
    "hist.isnull().sum(axis=0)"
   ]
  },
  {
   "cell_type": "code",
   "execution_count": 15,
   "id": "e3bc6e39",
   "metadata": {},
   "outputs": [],
   "source": [
    "hist.to_pickle('./datasets/soft/clean/hist.pkl')"
   ]
  },
  {
   "cell_type": "code",
   "execution_count": 16,
   "id": "f4cca30c",
   "metadata": {},
   "outputs": [
    {
     "data": {
      "text/html": [
       "<div>\n",
       "<style scoped>\n",
       "    .dataframe tbody tr th:only-of-type {\n",
       "        vertical-align: middle;\n",
       "    }\n",
       "\n",
       "    .dataframe tbody tr th {\n",
       "        vertical-align: top;\n",
       "    }\n",
       "\n",
       "    .dataframe thead th {\n",
       "        text-align: right;\n",
       "    }\n",
       "</style>\n",
       "<table border=\"1\" class=\"dataframe\">\n",
       "  <thead>\n",
       "    <tr style=\"text-align: right;\">\n",
       "      <th></th>\n",
       "      <th>EmployeeID</th>\n",
       "      <th>HiringDate</th>\n",
       "      <th>DismissalDate</th>\n",
       "    </tr>\n",
       "  </thead>\n",
       "  <tbody>\n",
       "    <tr>\n",
       "      <th>0</th>\n",
       "      <td>01EDC1A7-5DA7-4939-854B-0002E0DF548D</td>\n",
       "      <td>9/1/18</td>\n",
       "      <td>NaN</td>\n",
       "    </tr>\n",
       "    <tr>\n",
       "      <th>1</th>\n",
       "      <td>91C351D9-38A1-40CB-9B69-000774211859</td>\n",
       "      <td>1/1/18</td>\n",
       "      <td>2/1/19</td>\n",
       "    </tr>\n",
       "    <tr>\n",
       "      <th>2</th>\n",
       "      <td>D699327D-8A78-4FBE-9CEA-001355717D3F</td>\n",
       "      <td>2/1/18</td>\n",
       "      <td>NaN</td>\n",
       "    </tr>\n",
       "    <tr>\n",
       "      <th>3</th>\n",
       "      <td>22102E27-5EEA-44F9-8632-0017B04B1236</td>\n",
       "      <td>10/1/14</td>\n",
       "      <td>5/1/18</td>\n",
       "    </tr>\n",
       "    <tr>\n",
       "      <th>4</th>\n",
       "      <td>08C0AFA9-ABC3-4FAF-8DE2-0018AE9A69F4</td>\n",
       "      <td>9/1/10</td>\n",
       "      <td>NaN</td>\n",
       "    </tr>\n",
       "  </tbody>\n",
       "</table>\n",
       "</div>"
      ],
      "text/plain": [
       "                             EmployeeID HiringDate DismissalDate\n",
       "0  01EDC1A7-5DA7-4939-854B-0002E0DF548D     9/1/18           NaN\n",
       "1  91C351D9-38A1-40CB-9B69-000774211859     1/1/18        2/1/19\n",
       "2  D699327D-8A78-4FBE-9CEA-001355717D3F     2/1/18           NaN\n",
       "3  22102E27-5EEA-44F9-8632-0017B04B1236    10/1/14        5/1/18\n",
       "4  08C0AFA9-ABC3-4FAF-8DE2-0018AE9A69F4     9/1/10           NaN"
      ]
     },
     "execution_count": 16,
     "metadata": {},
     "output_type": "execute_result"
    }
   ],
   "source": [
    "emp = pd.read_csv('datasets/soft/employees.csv')\n",
    "\n",
    "emp.head()"
   ]
  },
  {
   "cell_type": "markdown",
   "id": "3db3d9dd",
   "metadata": {},
   "source": [
    "Employee\n",
    "\n",
    "Information about Employee employment\n",
    "\n",
    "EmployeeID - Employee identifier\n",
    "HiringDate - Date of Hiring\n",
    "DismissalDate - Date of Dismissal"
   ]
  },
  {
   "cell_type": "code",
   "execution_count": 17,
   "id": "71cd4602",
   "metadata": {},
   "outputs": [
    {
     "data": {
      "text/plain": [
       "(4356, 3)"
      ]
     },
     "execution_count": 17,
     "metadata": {},
     "output_type": "execute_result"
    }
   ],
   "source": [
    "emp[emp['DismissalDate'].isna()].shape"
   ]
  },
  {
   "cell_type": "code",
   "execution_count": 18,
   "id": "b310dd26",
   "metadata": {},
   "outputs": [
    {
     "data": {
      "text/plain": [
       "0"
      ]
     },
     "execution_count": 18,
     "metadata": {},
     "output_type": "execute_result"
    }
   ],
   "source": [
    "sum(emp['EmployeeID'].duplicated())"
   ]
  },
  {
   "cell_type": "code",
   "execution_count": 19,
   "id": "62e2c769",
   "metadata": {},
   "outputs": [
    {
     "data": {
      "text/plain": [
       "EmployeeID       object\n",
       "HiringDate       object\n",
       "DismissalDate    object\n",
       "dtype: object"
      ]
     },
     "execution_count": 19,
     "metadata": {},
     "output_type": "execute_result"
    }
   ],
   "source": [
    "emp.dtypes"
   ]
  },
  {
   "cell_type": "code",
   "execution_count": 20,
   "id": "0cea1edb",
   "metadata": {},
   "outputs": [],
   "source": [
    "emp['HiringDate'] = pd.to_datetime(emp['HiringDate'], format='%m/%d/%y')\n",
    "emp['DismissalDate'] = pd.to_datetime(emp['DismissalDate'], format='%m/%d/%y')"
   ]
  },
  {
   "cell_type": "code",
   "execution_count": 21,
   "id": "25b49969",
   "metadata": {},
   "outputs": [
    {
     "data": {
      "text/plain": [
       "EmployeeID          0\n",
       "HiringDate          0\n",
       "DismissalDate    4356\n",
       "dtype: int64"
      ]
     },
     "execution_count": 21,
     "metadata": {},
     "output_type": "execute_result"
    }
   ],
   "source": [
    "emp.isnull().sum(axis=0)"
   ]
  },
  {
   "cell_type": "code",
   "execution_count": 22,
   "id": "0c378e91",
   "metadata": {},
   "outputs": [],
   "source": [
    "emp.to_pickle('./datasets/soft/clean/emp.pkl')"
   ]
  }
 ],
 "metadata": {
  "kernelspec": {
   "display_name": "Python 3",
   "language": "python",
   "name": "python3"
  },
  "language_info": {
   "codemirror_mode": {
    "name": "ipython",
    "version": 3
   },
   "file_extension": ".py",
   "mimetype": "text/x-python",
   "name": "python",
   "nbconvert_exporter": "python",
   "pygments_lexer": "ipython3",
   "version": "3.10.4"
  }
 },
 "nbformat": 4,
 "nbformat_minor": 5
}
